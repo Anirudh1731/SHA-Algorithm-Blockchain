{
 "cells": [
  {
   "cell_type": "code",
   "execution_count": 1,
   "id": "058716aa",
   "metadata": {},
   "outputs": [],
   "source": [
    "import hashlib"
   ]
  },
  {
   "cell_type": "code",
   "execution_count": 3,
   "id": "886cf383",
   "metadata": {},
   "outputs": [
    {
     "data": {
      "text/plain": [
       "b'Anirudh'"
      ]
     },
     "execution_count": 3,
     "metadata": {},
     "output_type": "execute_result"
    }
   ],
   "source": [
    "str1.encode()"
   ]
  },
  {
   "cell_type": "markdown",
   "id": "24d3c1b1",
   "metadata": {},
   "source": [
    "# SHA 256"
   ]
  },
  {
   "cell_type": "code",
   "execution_count": 2,
   "id": "988b55d2",
   "metadata": {},
   "outputs": [],
   "source": [
    "str1=\"Anirudh\"\n",
    "\n",
    "hashval=hashlib.sha256(str1.encode())"
   ]
  },
  {
   "cell_type": "code",
   "execution_count": 5,
   "id": "9fb5846e",
   "metadata": {},
   "outputs": [
    {
     "data": {
      "text/plain": [
       "'20eab4fa057cc63161d37a5c6f5f646e33d9eadabae7d6cc63b93cc1f3bcce77'"
      ]
     },
     "execution_count": 5,
     "metadata": {},
     "output_type": "execute_result"
    }
   ],
   "source": [
    "hashval.hexdigest()"
   ]
  },
  {
   "cell_type": "markdown",
   "id": "7895e67f",
   "metadata": {},
   "source": [
    "# SHA 384\n"
   ]
  },
  {
   "cell_type": "code",
   "execution_count": 6,
   "id": "e7108f4d",
   "metadata": {},
   "outputs": [],
   "source": [
    "hashval=hashlib.sha384(str1.encode())"
   ]
  },
  {
   "cell_type": "code",
   "execution_count": 7,
   "id": "81c9f9c3",
   "metadata": {},
   "outputs": [
    {
     "data": {
      "text/plain": [
       "'c0a28188b3e96f6d32c97e97b965be5e937e4597e6874907f79bbfe017780f23572d14d73d8589668856b5b22d933c5d'"
      ]
     },
     "execution_count": 7,
     "metadata": {},
     "output_type": "execute_result"
    }
   ],
   "source": [
    "hashval.hexdigest()"
   ]
  },
  {
   "cell_type": "markdown",
   "id": "926d03b3",
   "metadata": {},
   "source": [
    "# SHA224"
   ]
  },
  {
   "cell_type": "code",
   "execution_count": 8,
   "id": "3ea9e10c",
   "metadata": {},
   "outputs": [],
   "source": [
    "hashval=hashlib.sha224(str1.encode())"
   ]
  },
  {
   "cell_type": "code",
   "execution_count": 9,
   "id": "7f40e9f3",
   "metadata": {},
   "outputs": [
    {
     "data": {
      "text/plain": [
       "'24928e3c9dedc4bb73a3b8c8895d2fae20721288d7e9388d68cfd1fc'"
      ]
     },
     "execution_count": 9,
     "metadata": {},
     "output_type": "execute_result"
    }
   ],
   "source": [
    "hashval.hexdigest()"
   ]
  },
  {
   "cell_type": "markdown",
   "id": "e9622b77",
   "metadata": {},
   "source": [
    "# SHA 512"
   ]
  },
  {
   "cell_type": "code",
   "execution_count": 10,
   "id": "5c57137e",
   "metadata": {},
   "outputs": [],
   "source": [
    "hashval=hashlib.sha512(str1.encode())"
   ]
  },
  {
   "cell_type": "code",
   "execution_count": 11,
   "id": "58ff0539",
   "metadata": {},
   "outputs": [
    {
     "data": {
      "text/plain": [
       "'6e4cedc4889766c7f2e642a63b74bc9ff2bbe1ca7671397263ab05d8b577924b7bca7aa741f5e8820133d01847e4994b48ce13795b18d6ece6e7554f14d48871'"
      ]
     },
     "execution_count": 11,
     "metadata": {},
     "output_type": "execute_result"
    }
   ],
   "source": [
    "hashval.hexdigest()"
   ]
  },
  {
   "cell_type": "code",
   "execution_count": null,
   "id": "d83c0d71",
   "metadata": {},
   "outputs": [],
   "source": []
  }
 ],
 "metadata": {
  "kernelspec": {
   "display_name": "Python 3 (ipykernel)",
   "language": "python",
   "name": "python3"
  },
  "language_info": {
   "codemirror_mode": {
    "name": "ipython",
    "version": 3
   },
   "file_extension": ".py",
   "mimetype": "text/x-python",
   "name": "python",
   "nbconvert_exporter": "python",
   "pygments_lexer": "ipython3",
   "version": "3.11.5"
  }
 },
 "nbformat": 4,
 "nbformat_minor": 5
}
